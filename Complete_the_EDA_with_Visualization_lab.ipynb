{
  "nbformat": 4,
  "nbformat_minor": 0,
  "metadata": {
    "colab": {
      "name": "Complete the EDA with Visualization lab.ipynb",
      "provenance": [],
      "authorship_tag": "ABX9TyMX7CtVo0nxRN2Wumg61ZiS",
      "include_colab_link": true
    },
    "kernelspec": {
      "name": "python3",
      "display_name": "Python 3"
    },
    "language_info": {
      "name": "python"
    }
  },
  "cells": [
    {
      "cell_type": "markdown",
      "metadata": {
        "id": "view-in-github",
        "colab_type": "text"
      },
      "source": [
        "<a href=\"https://colab.research.google.com/github/Najmusseher/IBM-Data-Science-Professional-Certificate-Course/blob/main/Complete_the_EDA_with_Visualization_lab.ipynb\" target=\"_parent\"><img src=\"https://colab.research.google.com/assets/colab-badge.svg\" alt=\"Open In Colab\"/></a>"
      ]
    },
    {
      "cell_type": "code",
      "execution_count": null,
      "metadata": {
        "id": "bzttZk_E093_"
      },
      "outputs": [],
      "source": [
        ""
      ]
    },
    {
      "cell_type": "markdown",
      "source": [
        "**SpaceX Falcon 9 First Stage Landing Prediction**\n",
        "Assignment: Exploring and Preparing Data\n",
        "Estimated time needed: 70 minutes\n",
        "\n",
        "In this assignment, we will predict if the Falcon 9 first stage will land successfully. SpaceX advertises Falcon 9 rocket launches on its website with a cost of 62 million dollars; other providers cost upward of 165 million dollars each, much of the savings is due to the fact that SpaceX can reuse the first stage.\n",
        "\n",
        "In this lab, you will perform Exploratory Data Analysis and Feature Engineering.\n",
        "\n",
        "Falcon 9 first stage will land successfully\n",
        "\n",
        "\n",
        "\n",
        "Several examples of an unsuccessful landing are shown here:\n",
        "\n",
        "\n",
        "\n",
        "Most unsuccessful landings are planned. Space X performs a controlled landing in the oceans.\n",
        "\n",
        "Objectives\n",
        "Perform exploratory Data Analysis and Feature Engineering using Pandas and Matplotlib\n",
        "\n",
        "Exploratory Data Analysis\n",
        "Preparing Data Feature Engineering\n"
      ],
      "metadata": {
        "id": "-C_IbR6L1U2u"
      }
    },
    {
      "cell_type": "markdown",
      "source": [
        "\n",
        "#Import Libraries and Define Auxiliary Functions\n",
        "We will import the following libraries the lab\n",
        "\n"
      ],
      "metadata": {
        "id": "0BQ-oPHA1bJW"
      }
    },
    {
      "cell_type": "code",
      "source": [
        "#pandas is a software library written for the Python programming language for data manipulation and analysis.\n",
        "import pandas as pd\n",
        "#NumPy is a library for the Python programming language, adding support for large, multi-dimensional arrays and matrices, along with a large collection of high-level mathematical functions to operate on these arrays\n",
        "import numpy as np\n",
        "# Matplotlib is a plotting library for python and pyplot gives us a MatLab like plotting framework. We will use this in our plotter function to plot data.\n",
        "import matplotlib.pyplot as plt\n",
        "#Seaborn is a Python data visualization library based on matplotlib. It provides a high-level interface for drawing attractive and informative statistical graphics\n",
        "import seaborn as sns"
      ],
      "metadata": {
        "id": "hhrdxLKq1Xln"
      },
      "execution_count": null,
      "outputs": []
    },
    {
      "cell_type": "markdown",
      "source": [
        "#Exploratory Data Analysis\n",
        "First, let's read the SpaceX dataset into a Pandas dataframe and print its summary"
      ],
      "metadata": {
        "id": "7EXIFsfL1gR2"
      }
    },
    {
      "cell_type": "code",
      "source": [
        "df=pd.read_csv(\"https://cf-courses-data.s3.us.cloud-object-storage.appdomain.cloud/IBM-DS0321EN-SkillsNetwork/datasets/dataset_part_2.csv\")\n",
        "\n",
        "# If you were unable to complete the previous lab correctly you can uncomment and load this csv\n",
        "\n",
        "# df = pd.read_csv('https://cf-courses-data.s3.us.cloud-object-storage.appdomain.cloud/IBMDeveloperSkillsNetwork-DS0701EN-SkillsNetwork/api/dataset_part_2.csv')\n",
        "\n",
        "df.head(5)"
      ],
      "metadata": {
        "id": "YZMHs81W1lVl"
      },
      "execution_count": null,
      "outputs": []
    },
    {
      "cell_type": "markdown",
      "source": [
        "First, let's try to see how the FlightNumber (indicating the continuous launch attempts.) and Payload variables would affect the launch outcome.\n",
        "\n",
        "We can plot out the FlightNumber vs. PayloadMassand overlay the outcome of the launch. We see that as the flight number increases, the first stage is more likely to land successfully. The payload mass is also important; it seems the more massive the payload, the less likely the first stage will return."
      ],
      "metadata": {
        "id": "mFzoUJiX1nwh"
      }
    },
    {
      "cell_type": "code",
      "source": [
        "sns.catplot(y=\"PayloadMass\", x=\"FlightNumber\", hue=\"Class\", data=df, aspect = 5)\n",
        "plt.xlabel(\"Flight Number\",fontsize=20)\n",
        "plt.ylabel(\"Pay load Mass (kg)\",fontsize=20)\n",
        "plt.show()"
      ],
      "metadata": {
        "id": "0XfYz9KD1qjN"
      },
      "execution_count": null,
      "outputs": []
    },
    {
      "cell_type": "markdown",
      "source": [
        "We see that different launch sites have different success rates. CCAFS LC-40, has a success rate of 60 %, while KSC LC-39A and VAFB SLC 4E has a success rate of 77%.\n",
        "\n",
        "Next, let's drill down to each site visualize its detailed launch records."
      ],
      "metadata": {
        "id": "R0ckAuWQ1s9C"
      }
    },
    {
      "cell_type": "markdown",
      "source": [
        "#TASK 1: Visualize the relationship between Flight Number and Launch Site\n",
        "Use the function catplot to plot FlightNumber vs LaunchSite, set the parameter x parameter to FlightNumber,set the y to Launch Site and set the parameter hue to 'class'"
      ],
      "metadata": {
        "id": "47vHAdFO1ymX"
      }
    },
    {
      "cell_type": "code",
      "source": [
        "# Plot a scatter point chart with x axis to be Flight Number and y axis to be the launch site, and hue to be the class value\n",
        "sns.catplot(y='LaunchSite', x='FlightNumber', hue='Class', data=df)\n",
        "plt.xlabel('Flight Number')\n",
        "plt.ylabel('Launch Site')\n",
        "plt.show()"
      ],
      "metadata": {
        "id": "zO-hRDwU1xxR"
      },
      "execution_count": null,
      "outputs": []
    },
    {
      "cell_type": "markdown",
      "source": [
        "#TASK 2: Visualize the relationship between Payload and Launch Site\n",
        "We also want to observe if there is any relationship between launch sites and their payload mass."
      ],
      "metadata": {
        "id": "MTM9GIz415IV"
      }
    },
    {
      "cell_type": "code",
      "source": [
        "# Plot a scatter point chart with x axis to be Pay Load Mass (kg) and y axis to be the launch site, and hue to be the class value\n",
        "sns.catplot(y='LaunchSite', x='PayloadMass', hue='Class', data=df)\n",
        "plt.xlabel('Pay Load Mass (kg)')\n",
        "plt.ylabel('Launch Site')\n",
        "plt.show()"
      ],
      "metadata": {
        "id": "7cj3724k16WZ"
      },
      "execution_count": null,
      "outputs": []
    },
    {
      "cell_type": "markdown",
      "source": [
        "#TASK 3: Visualize the relationship between success rate of each orbit type\n",
        "Next, we want to visually check if there are any relationship between success rate and orbit type.\n",
        "\n",
        "Let's create a bar chart for the sucess rate of each orbit"
      ],
      "metadata": {
        "id": "xXZLtO832BDm"
      }
    },
    {
      "cell_type": "code",
      "source": [
        "# HINT use groupby method on Orbit column and get the mean of Class column\n",
        "df_sorted = df.groupby('Orbit').mean()['Class'].reset_index().sort_values(['Class'], ascending=True)\n",
        "\n",
        "fig, ax = plt.subplots()\n",
        "\n",
        "ax.barh(df_sorted.Orbit, df_sorted.Class * 100)\n",
        "\n",
        "plt.xlabel('Success Rate (%)')\n",
        "plt.ylabel('Orbit Type')\n",
        "plt.show()"
      ],
      "metadata": {
        "id": "5J-aXAaD2CXY"
      },
      "execution_count": null,
      "outputs": []
    },
    {
      "cell_type": "markdown",
      "source": [
        "#TASK 4: Visualize the relationship between FlightNumber and Orbit type\n",
        "For each orbit, we want to see if there is any relationship between FlightNumber and Orbit type.\n",
        "\n"
      ],
      "metadata": {
        "id": "zJzwuFk12Evc"
      }
    },
    {
      "cell_type": "code",
      "source": [
        "# Plot a scatter point chart with x axis to be FlightNumber and y axis to be the Orbit, and hue to be the class value\n",
        "sns.catplot(x='FlightNumber', y='Orbit', hue='Class', data=df)\n",
        "plt.xlabel('Fligh Number')\n",
        "plt.ylabel('Orbit Type')\n",
        "plt.show()"
      ],
      "metadata": {
        "id": "zFekSmLq2JT7"
      },
      "execution_count": null,
      "outputs": []
    },
    {
      "cell_type": "markdown",
      "source": [
        "#TASK 5: Visualize the relationship between Payload and Orbit type\n",
        "Similarly, we can plot the Payload vs. Orbit scatter point charts to reveal the relationship between Payload and Orbit type\n",
        "\n"
      ],
      "metadata": {
        "id": "MtIyFhk52KLh"
      }
    },
    {
      "cell_type": "code",
      "source": [
        "# Plot a scatter point chart with x axis to be Payload and y axis to be the Orbit, and hue to be the class value\n",
        "sns.catplot(x='PayloadMass', y='Orbit', hue='Class', data=df)\n",
        "plt.xlabel('Pay load Mass (kg)')\n",
        "plt.ylabel('Orbit Type')\n",
        "plt.show()"
      ],
      "metadata": {
        "id": "bJc9yKoB2OI9"
      },
      "execution_count": null,
      "outputs": []
    },
    {
      "cell_type": "markdown",
      "source": [
        "#TASK 6: Visualize the launch success yearly trend\n",
        "You can plot a line chart with x axis to be Year and y axis to be average success rate, to get the average launch success trend.\n",
        "\n",
        "The function will help you get the year from the date:\n",
        "\n"
      ],
      "metadata": {
        "id": "SYNdWWC02O2Y"
      }
    },
    {
      "cell_type": "code",
      "source": [
        "# A function to Extract years from the date \n",
        "year=[]\n",
        "def Extract_year(date):\n",
        "    for i in df[\"Date\"]:\n",
        "        year.append(i.split(\"-\")[0])\n",
        "    return year"
      ],
      "metadata": {
        "id": "85gKRla52UAM"
      },
      "execution_count": null,
      "outputs": []
    },
    {
      "cell_type": "code",
      "source": [
        "# Plot a line chart with x axis to be the extracted year and y axis to be the success rate\n",
        "df.groupby(Extract_year(df['Date'])).mean()['Class'].plot(kind='line')\n",
        "plt.xlabel('Year')\n",
        "plt.ylabel('Success Rate')\n",
        "plt.show()"
      ],
      "metadata": {
        "id": "Jrmr1Fza2XzS"
      },
      "execution_count": null,
      "outputs": []
    },
    {
      "cell_type": "markdown",
      "source": [
        "#Features Engineering\n",
        "By now, you should obtain some preliminary insights about how each important variable would affect the success rate, we will select the features that will be used in success prediction in the future module.\n",
        "\n"
      ],
      "metadata": {
        "id": "v6__v5ac2bS1"
      }
    },
    {
      "cell_type": "code",
      "source": [
        "features = df[['FlightNumber', 'PayloadMass', 'Orbit', 'LaunchSite', 'Flights', 'GridFins', 'Reused', 'Legs', 'LandingPad', 'Block', 'ReusedCount', 'Serial']]\n",
        "features.head()"
      ],
      "metadata": {
        "id": "ta1f7rXK2e-p"
      },
      "execution_count": null,
      "outputs": []
    },
    {
      "cell_type": "markdown",
      "source": [
        "#TASK 7: Create dummy variables to categorical columns\n",
        "Use the function get_dummies and features dataframe to apply OneHotEncoder to the column Orbits, LaunchSite, LandingPad, and Serial. Assign the value to the variable features_one_hot, display the results using the method head. Your result dataframe must include all features including the encoded ones.\n",
        "\n"
      ],
      "metadata": {
        "id": "V7Aw679Y2fk2"
      }
    },
    {
      "cell_type": "code",
      "source": [
        "# HINT: Use get_dummies() function on the categorical columns\n",
        "features_one_hot = pd.get_dummies(features, columns=['Orbit', 'LaunchSite', 'LandingPad', 'Serial'])\n",
        "features_one_hot.head()"
      ],
      "metadata": {
        "id": "YRNKcfAk2kMv"
      },
      "execution_count": null,
      "outputs": []
    },
    {
      "cell_type": "markdown",
      "source": [
        "#TASK 8: Cast all numeric columns to float64\n",
        "Now that our features_one_hot dataframe only contains numbers cast the entire dataframe to variable type float64"
      ],
      "metadata": {
        "id": "Fpu465bp2lar"
      }
    },
    {
      "cell_type": "code",
      "source": [
        "# HINT: use astype function\n",
        "features_one_hot.astype('float64')"
      ],
      "metadata": {
        "id": "ZjOBnTvD2q0d"
      },
      "execution_count": null,
      "outputs": []
    },
    {
      "cell_type": "markdown",
      "source": [
        "We can now export it to a CSV for the next section,but to make the answers consistent, in the next lab we will provide data in a pre-selected date range.\n",
        "\n",
        "features_one_hot.to_csv('dataset_part\\_3.csv', index=False)"
      ],
      "metadata": {
        "id": "Ap9BtDC92rzY"
      }
    },
    {
      "cell_type": "code",
      "source": [
        ""
      ],
      "metadata": {
        "id": "guCLhmcD2tys"
      },
      "execution_count": null,
      "outputs": []
    }
  ]
}