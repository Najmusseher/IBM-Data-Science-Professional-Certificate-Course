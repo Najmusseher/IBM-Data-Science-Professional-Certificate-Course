{
  "nbformat": 4,
  "nbformat_minor": 0,
  "metadata": {
    "colab": {
      "name": "Complete the EDA with SQL lab.ipynb",
      "provenance": [],
      "authorship_tag": "ABX9TyMjzhUzhbgSuF0NSPjrHRC0",
      "include_colab_link": true
    },
    "kernelspec": {
      "name": "python3",
      "display_name": "Python 3"
    },
    "language_info": {
      "name": "python"
    }
  },
  "cells": [
    {
      "cell_type": "markdown",
      "metadata": {
        "id": "view-in-github",
        "colab_type": "text"
      },
      "source": [
        "<a href=\"https://colab.research.google.com/github/Najmusseher/IBM-Data-Science-Professional-Certificate-Course/blob/main/Complete_the_EDA_with_SQL_lab.ipynb\" target=\"_parent\"><img src=\"https://colab.research.google.com/assets/colab-badge.svg\" alt=\"Open In Colab\"/></a>"
      ]
    },
    {
      "cell_type": "markdown",
      "source": [
        "#Assignment: SQL Notebook for Peer Assignment"
      ],
      "metadata": {
        "id": "2kX5QNSbyrOQ"
      }
    },
    {
      "cell_type": "markdown",
      "source": [
        "Estimated time needed: 60 minutes.\n",
        "\n",
        "Introduction\n",
        "Using this Python notebook you will:\n",
        "\n",
        "Understand the Spacex DataSet\n",
        "Load the dataset into the corresponding table in a Db2 database\n",
        "Execute SQL queries to answer assignment questions\n",
        "Overview of the DataSet\n",
        "SpaceX has gained worldwide attention for a series of historic milestones.\n",
        "\n",
        "It is the only private company ever to return a spacecraft from low-earth orbit, which it first accomplished in December 2010. SpaceX advertises Falcon 9 rocket launches on its website with a cost of 62 million dollars wheras other providers cost upward of 165 million dollars each, much of the savings is because Space X can reuse the first stage.\n",
        "\n",
        "Therefore if we can determine if the first stage will land, we can determine the cost of a launch.\n",
        "\n",
        "This information can be used if an alternate company wants to bid against SpaceX for a rocket launch.\n",
        "\n",
        "This dataset includes a record for each payload carried during a SpaceX mission into outer space.\n",
        "\n",
        "Download the datasets\n",
        "This assignment requires you to load the spacex dataset.\n",
        "\n",
        "In many cases the dataset to be analyzed is available as a .CSV (comma separated values) file, perhaps on the internet. Click on the link below to download and save the dataset (.CSV file):\n",
        "\n",
        "Spacex DataSet"
      ],
      "metadata": {
        "id": "4yJwdRtVyoJn"
      }
    },
    {
      "cell_type": "code",
      "source": [
        "!pip install sqlalchemy==1.3.9\n",
        "!pip install ibm_db_sa\n",
        "!pip install ipython-sql"
      ],
      "metadata": {
        "id": "XeupmZ4MypNT"
      },
      "execution_count": null,
      "outputs": []
    },
    {
      "cell_type": "markdown",
      "source": [
        "Connect to the database"
      ],
      "metadata": {
        "id": "Y-Vkj5RXy3RU"
      }
    },
    {
      "cell_type": "code",
      "source": [
        "%load_ext sql"
      ],
      "metadata": {
        "id": "gi6U_WRiyzvf"
      },
      "execution_count": null,
      "outputs": []
    },
    {
      "cell_type": "code",
      "source": [
        "%sql ibm_db_sa://cky43798:B3o4ThmQsD6Cuzq9@54a2f15b-5c0f-46df-8954-7e38e612c2bd.c1ogj3sd0tgtu0lqde00.databases.appdomain.cloud:32733/bludb?security=SSL"
      ],
      "metadata": {
        "id": "vX3cnrLUy5rA"
      },
      "execution_count": null,
      "outputs": []
    },
    {
      "cell_type": "markdown",
      "source": [
        "**Tasks**\n",
        "Now write and execute SQL queries to solve the assignment tasks.\n"
      ],
      "metadata": {
        "id": "QTwlWOhzy9av"
      }
    },
    {
      "cell_type": "markdown",
      "source": [
        "\n",
        "**Task 1**\n",
        "Display the names of the unique launch sites in the space mission"
      ],
      "metadata": {
        "id": "gojM4VkzzJDw"
      }
    },
    {
      "cell_type": "code",
      "source": [
        "%%sql\n",
        "SELECT DISTINCT LAUNCH_SITE\n",
        "FROM SPACEXTBL"
      ],
      "metadata": {
        "id": "vLwQr0JqzHtq"
      },
      "execution_count": null,
      "outputs": []
    },
    {
      "cell_type": "markdown",
      "source": [
        "**Task 2**\n",
        "Display 5 records where launch sites begin with the string 'CCA'\n"
      ],
      "metadata": {
        "id": "_oRlSG42zSHm"
      }
    },
    {
      "cell_type": "code",
      "source": [
        "%%sql\n",
        "SELECT * FROM SPACEXTBL\n",
        "WHERE LAUNCH_SITE LIKE 'CCA%'\n",
        "LIMIT 5"
      ],
      "metadata": {
        "id": "yV4D-TIWzOmu"
      },
      "execution_count": null,
      "outputs": []
    },
    {
      "cell_type": "markdown",
      "source": [
        "**Task 3**\n",
        "Display the total payload mass carried by boosters launched by NASA (CRS)\n"
      ],
      "metadata": {
        "id": "oxNsZno_zXfE"
      }
    },
    {
      "cell_type": "code",
      "source": [
        "%%sql\n",
        "SELECT SUM(PAYLOAD_MASS__KG_) AS total_payload_mass_kg\n",
        "FROM SPACEXTBL\n",
        "WHERE CUSTOMER = 'NASA (CRS)'"
      ],
      "metadata": {
        "id": "1ouvH2Gjy_T5"
      },
      "execution_count": null,
      "outputs": []
    },
    {
      "cell_type": "markdown",
      "source": [
        "**Task 4**\n",
        "Display average payload mass carried by booster version F9 v1.1"
      ],
      "metadata": {
        "id": "US1vi09LzkBM"
      }
    },
    {
      "cell_type": "code",
      "source": [
        "%%sql\n",
        "SELECT AVG(PAYLOAD_MASS__KG_) AS avg_payload_mass_kg\n",
        "FROM SPACEXTBL\n",
        "WHERE BOOSTER_VERSION = 'F9 v1.1'"
      ],
      "metadata": {
        "id": "TDeP5QhrzfIa"
      },
      "execution_count": null,
      "outputs": []
    },
    {
      "cell_type": "markdown",
      "source": [
        "**Task 5**\n",
        "List the date when the first successful landing outcome in ground pad was acheived.\n",
        "Hint:Use min function\n",
        "\n"
      ],
      "metadata": {
        "id": "q9GnwHpXznTO"
      }
    },
    {
      "cell_type": "code",
      "source": [
        "%%sql\n",
        "SELECT MIN(DATE) AS first_successful_landing_date\n",
        "FROM SPACEXTBL\n",
        "WHERE LANDING__OUTCOME = 'Success (ground pad)'"
      ],
      "metadata": {
        "id": "4VDQY3iSzzNM"
      },
      "execution_count": null,
      "outputs": []
    },
    {
      "cell_type": "markdown",
      "source": [
        "\n",
        "**Task 6**\n",
        "List the names of the boosters which have success in drone ship and have payload mass greater than 4000 but less than 6000\n"
      ],
      "metadata": {
        "id": "Ngl-KAf6z2Rw"
      }
    },
    {
      "cell_type": "code",
      "source": [
        "%%sql\n",
        "SELECT BOOSTER_VERSION\n",
        "FROM SPACEXTBL\n",
        "WHERE LANDING__OUTCOME = 'Success (drone ship)'\n",
        "    AND (PAYLOAD_MASS__KG_ BETWEEN 4000 AND 6000)"
      ],
      "metadata": {
        "id": "t58XzOBNz8Z1"
      },
      "execution_count": null,
      "outputs": []
    },
    {
      "cell_type": "markdown",
      "source": [
        "**Task 7**\n",
        "List the total number of successful and failure mission outcomes\n"
      ],
      "metadata": {
        "id": "jXC2uE8-z_Q_"
      }
    },
    {
      "cell_type": "code",
      "source": [
        "%%sql\n",
        "SELECT MISSION_OUTCOME, COUNT(*) AS total_number\n",
        "FROM SPACEXTBL\n",
        "GROUP BY MISSION_OUTCOME"
      ],
      "metadata": {
        "id": "pPUjPWSb0HYG"
      },
      "execution_count": null,
      "outputs": []
    },
    {
      "cell_type": "markdown",
      "source": [
        "**Task 8**\n",
        "List the names of the booster_versions which have carried the maximum payload mass. Use a subquery\n"
      ],
      "metadata": {
        "id": "Y4RGoyaw0KGZ"
      }
    },
    {
      "cell_type": "code",
      "source": [
        "%%sql\n",
        "SELECT DISTINCT BOOSTER_VERSION, PAYLOAD_MASS__KG_\n",
        "FROM SPACEXTBL\n",
        "WHERE PAYLOAD_MASS__KG_ = (\n",
        "    SELECT MAX(PAYLOAD_MASS__KG_)\n",
        "    FROM SPACEXTBL);"
      ],
      "metadata": {
        "id": "uOpZIjQt0OjO"
      },
      "execution_count": null,
      "outputs": []
    },
    {
      "cell_type": "markdown",
      "source": [
        "**Task 9**\n",
        "List the failed landing_outcomes in drone ship, their booster versions, and launch site names for in year 2015\n"
      ],
      "metadata": {
        "id": "8oXY_57h0aSY"
      }
    },
    {
      "cell_type": "code",
      "source": [
        "%%sql\n",
        "SELECT LANDING__OUTCOME, BOOSTER_VERSION, LAUNCH_SITE\n",
        "FROM SPACEXTBL\n",
        "WHERE LANDING__OUTCOME = 'Failure (drone ship)' AND YEAR(DATE) = '2015'"
      ],
      "metadata": {
        "id": "os5UijCV0fG-"
      },
      "execution_count": null,
      "outputs": []
    },
    {
      "cell_type": "markdown",
      "source": [
        "**Task 10**\n",
        "Rank the count of landing outcomes (such as Failure (drone ship) or Success (ground pad)) between the date 2010-06-04 and 2017-03-20, in descending order\n"
      ],
      "metadata": {
        "id": "3hqy30Un0fvb"
      }
    },
    {
      "cell_type": "code",
      "source": [
        "%%sql\n",
        "SELECT LANDING__OUTCOME, COUNT(LANDING__OUTCOME) AS total_number\n",
        "FROM SPACEXTBL\n",
        "WHERE DATE BETWEEN '2010-06-04' AND '2017-03-20'\n",
        "GROUP BY LANDING__OUTCOME\n",
        "ORDER BY total_number DESC"
      ],
      "metadata": {
        "id": "5ENYuwcu0l5P"
      },
      "execution_count": null,
      "outputs": []
    },
    {
      "cell_type": "markdown",
      "source": [
        "Reference Links\n",
        "Hands-on Lab : String Patterns, Sorting and Grouping\n",
        "\n",
        "Hands-on Lab: Built-in functions\n",
        "\n",
        "Hands-on Lab : Sub-queries and Nested SELECT Statements\n",
        "\n",
        "Hands-on Tutorial: Accessing Databases with SQL magic\n",
        "\n",
        "Hands-on Lab: Analyzing a real World Data Set"
      ],
      "metadata": {
        "id": "dBkitj2i0r-u"
      }
    },
    {
      "cell_type": "code",
      "source": [
        ""
      ],
      "metadata": {
        "id": "N48U-R3U0uAn"
      },
      "execution_count": null,
      "outputs": []
    }
  ]
}