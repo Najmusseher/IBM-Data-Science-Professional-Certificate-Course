{
  "nbformat": 4,
  "nbformat_minor": 0,
  "metadata": {
    "colab": {
      "name": "Complete the Interactive Visual Analytics with .ipynb",
      "provenance": [],
      "authorship_tag": "ABX9TyN9/ktZUNfTQHpuRZercD9v",
      "include_colab_link": true
    },
    "kernelspec": {
      "name": "python3",
      "display_name": "Python 3"
    },
    "language_info": {
      "name": "python"
    }
  },
  "cells": [
    {
      "cell_type": "markdown",
      "metadata": {
        "id": "view-in-github",
        "colab_type": "text"
      },
      "source": [
        "<a href=\"https://colab.research.google.com/github/Najmusseher/IBM-Data-Science-Professional-Certificate-Course/blob/main/Complete_the_Interactive_Visual_Analytics_with_.ipynb\" target=\"_parent\"><img src=\"https://colab.research.google.com/assets/colab-badge.svg\" alt=\"Open In Colab\"/></a>"
      ]
    },
    {
      "cell_type": "code",
      "execution_count": null,
      "metadata": {
        "id": "9AMCzS_L3BUk"
      },
      "outputs": [],
      "source": [
        ""
      ]
    },
    {
      "cell_type": "markdown",
      "source": [
        "#Launch Sites Locations Analysis with Folium\n",
        "Estimated time needed: 40 minutes\n",
        "\n",
        "The launch success rate may depend on many factors such as payload mass, orbit type, and so on. It may also depend on the location and proximities of a launch site, i.e., the initial position of rocket trajectories. Finding an optimal location for building a launch site certainly involves many factors and hopefully we could discover some of the factors by analyzing the existing launch site locations.\n",
        "\n",
        "In the previous exploratory data analysis labs, you have visualized the SpaceX launch dataset using matplotlib and seaborn and discovered some preliminary correlations between the launch site and success rates. In this lab, you will be performing more interactive visual analytics using Folium.\n",
        "\n",
        "Objectives\n",
        "This lab contains the following tasks:\n",
        "\n",
        "TASK 1: Mark all launch sites on a map\n",
        "TASK 2: Mark the success/failed launches for each site on the map\n",
        "TASK 3: Calculate the distances between a launch site to its proximities\n",
        "After completed the above tasks, you should be able to find some geographical patterns about launch sites.\n",
        "\n",
        "Let's first import required Python packages for this lab:"
      ],
      "metadata": {
        "id": "v1pSc_DF3M7B"
      }
    },
    {
      "cell_type": "code",
      "source": [
        "#Let's first import required Python packages for this lab:\n",
        "\n",
        "!pip3 install folium\n",
        "!pip3 install wget"
      ],
      "metadata": {
        "id": "ABFfVqy_3OFu"
      },
      "execution_count": null,
      "outputs": []
    },
    {
      "cell_type": "code",
      "source": [
        "import folium\n",
        "import wget\n",
        "import pandas as pd\n",
        "# Import folium MarkerCluster plugin\n",
        "from folium.plugins import MarkerCluster\n",
        "# Import folium MousePosition plugin\n",
        "from folium.plugins import MousePosition\n",
        "# Import folium DivIcon plugin\n",
        "from folium.features import DivIcon"
      ],
      "metadata": {
        "id": "7uNakHmU3XfP"
      },
      "execution_count": null,
      "outputs": []
    },
    {
      "cell_type": "markdown",
      "source": [
        "#Task 1: Mark all launch sites on a map\n",
        "First, let's try to add each site's location on a map using site's latitude and longitude coordinates\n",
        "\n",
        "The following dataset with the name spacex_launch_geo.csv is an augmented dataset with latitude and longitude added for each site.\n"
      ],
      "metadata": {
        "id": "P9K3NOsE3YU3"
      }
    },
    {
      "cell_type": "code",
      "source": [
        "# Download and read the `spacex_launch_geo.csv`\n",
        "spacex_csv_file = wget.download('https://cf-courses-data.s3.us.cloud-object-storage.appdomain.cloud/IBM-DS0321EN-SkillsNetwork/datasets/spacex_launch_geo.csv')\n",
        "spacex_df=pd.read_csv(spacex_csv_file)"
      ],
      "metadata": {
        "id": "Jto9epTT3gFm"
      },
      "execution_count": null,
      "outputs": []
    },
    {
      "cell_type": "markdown",
      "source": [
        "Now, you can take a look at what are the coordinates for each site."
      ],
      "metadata": {
        "id": "FOIosqYA3ijx"
      }
    },
    {
      "cell_type": "code",
      "source": [
        "# Select relevant sub-columns: `Launch Site`, `Lat(Latitude)`, `Long(Longitude)`, `class`\n",
        "spacex_df = spacex_df[['Launch Site', 'Lat', 'Long', 'class']]\n",
        "launch_sites_df = spacex_df.groupby(['Launch Site'], as_index=False).first()\n",
        "launch_sites_df = launch_sites_df[['Launch Site', 'Lat', 'Long', 'class']]\n",
        "launch_sites_df"
      ],
      "metadata": {
        "id": "pkzraFAs3kaD"
      },
      "execution_count": null,
      "outputs": []
    },
    {
      "cell_type": "markdown",
      "source": [
        "Above coordinates are just plain numbers that can not give you any intuitive insights about where are those launch sites. If you are very good at geography, you can interpret those numbers directly in your mind. If not, that's fine too. Let's visualize those locations by pinning them on a map.\n",
        "\n",
        "We first need to create a folium Map object, with an initial center location to be NASA Johnson Space Center at Houston, Texas."
      ],
      "metadata": {
        "id": "gc6NKgl03lKB"
      }
    },
    {
      "cell_type": "code",
      "source": [
        "# Start location is NASA Johnson Space Center\n",
        "nasa_coordinate = [29.559684888503615, -95.0830971930759]\n",
        "site_map = folium.Map(location=nasa_coordinate, zoom_start=10)"
      ],
      "metadata": {
        "id": "9c8dtZHW3p4O"
      },
      "execution_count": null,
      "outputs": []
    },
    {
      "cell_type": "markdown",
      "source": [
        "We could use folium.Circle to add a highlighted circle area with a text label on a specific coordinate. For example,"
      ],
      "metadata": {
        "id": "CMLlJOce3uM1"
      }
    },
    {
      "cell_type": "code",
      "source": [
        "# Create a blue circle at NASA Johnson Space Center's coordinate with a popup label showing its name\n",
        "circle = folium.Circle(nasa_coordinate, radius=1000, color='#007fd3', fill=True).add_child(folium.Popup('NASA Johnson Space Center'))\n",
        "# Create a blue circle at NASA Johnson Space Center's coordinate with a icon showing its name\n",
        "marker = folium.map.Marker(\n",
        "    nasa_coordinate,\n",
        "    # Create an icon as a text label\n",
        "    icon=DivIcon(\n",
        "        icon_size=(20,20),\n",
        "        icon_anchor=(0,0),\n",
        "        html='<div style=\"font-size: 12; color:#007fd3;\"><b>%s</b></div>' % 'NASA JSC',\n",
        "        )\n",
        "    )\n",
        "site_map.add_child(circle)\n",
        "site_map.add_child(marker)"
      ],
      "metadata": {
        "id": "y4s6ZS1F3ual"
      },
      "execution_count": null,
      "outputs": []
    },
    {
      "cell_type": "code",
      "source": [
        "# Initial the map\n",
        "site_map = folium.Map(location=nasa_coordinate, zoom_start=5)\n",
        "# For each launch site, add a Circle object based on its coordinate (Lat, Long) values. In addition, add Launch site name as a popup label\n",
        "for lat, lng, label in zip(launch_sites_df['Lat'], launch_sites_df['Long'], launch_sites_df['Launch Site']):\n",
        "    coordinate = [lat, lng]\n",
        "    circle = folium.Circle(coordinate, radius=1000, color='#d35400', fill=True).add_child(folium.Popup(label))\n",
        "    marker = folium.map.Marker(\n",
        "        coordinate, \n",
        "        icon=DivIcon(\n",
        "            icon_size=(20,20),\n",
        "            icon_anchor=(0,0), \n",
        "            html='<div style=\"font-size: 12; color:#d35400;\"><b>%s</b></div>' % label, \n",
        "            )\n",
        "        )\n",
        "    site_map.add_child(circle)\n",
        "    site_map.add_child(marker)\n",
        "\n",
        "site_map"
      ],
      "metadata": {
        "id": "uGdS_iyu34SM"
      },
      "execution_count": null,
      "outputs": []
    },
    {
      "cell_type": "markdown",
      "source": [
        "#Task 2: Mark the success/failed launches for each site on the map\n",
        "Next, let's try to enhance the map by adding the launch outcomes for each site, and see which sites have high success rates. Recall that data frame spacex_df has detailed launch records, and the class column indicates if this launch was successful or not"
      ],
      "metadata": {
        "id": "CcQ6Pw5q39B3"
      }
    },
    {
      "cell_type": "code",
      "source": [
        "spacex_df.tail(10)"
      ],
      "metadata": {
        "id": "yVxD-1dr3410"
      },
      "execution_count": null,
      "outputs": []
    },
    {
      "cell_type": "markdown",
      "source": [
        "Next, let's create markers for all launch records. If a launch was successful (class=1), then we use a green marker and if a launch was failed, we use a red marker (class=0)\n",
        "\n",
        "Note that a launch only happens in one of the four launch sites, which means many launch records will have the exact same coordinate. Marker clusters can be a good way to simplify a map containing many markers having the same coordinate.\n",
        "\n",
        "Let's first create a MarkerCluster object"
      ],
      "metadata": {
        "id": "l9Te7Twv4Agi"
      }
    },
    {
      "cell_type": "code",
      "source": [
        "marker_cluster = MarkerCluster()"
      ],
      "metadata": {
        "id": "npXvutQb4D0n"
      },
      "execution_count": null,
      "outputs": []
    },
    {
      "cell_type": "code",
      "source": [
        "# Apply a function to check the value of `class` column\n",
        "# If class=1, marker_color value will be green\n",
        "# If class=0, marker_color value will be red\n",
        "def assign_marker_color_LSDF(launch_class):\n",
        "    if launch_class == 1:\n",
        "        return 'green'\n",
        "    else:\n",
        "        return 'red'\n",
        "\n",
        "launch_sites_df['marker_color'] = launch_sites_df['class'].apply(assign_marker_color_LSDF)\n",
        "launch_sites_df"
      ],
      "metadata": {
        "id": "OmDMvaTJ4HjB"
      },
      "execution_count": null,
      "outputs": []
    },
    {
      "cell_type": "code",
      "source": [
        "# Function to assign color to launch outcome\n",
        "def assign_marker_color(launch_outcome):\n",
        "    if launch_outcome == 1:\n",
        "        return 'green'\n",
        "    else:\n",
        "        return 'red'\n",
        "    \n",
        "spacex_df['marker_color'] = spacex_df['class'].apply(assign_marker_color)\n",
        "spacex_df.tail(10)"
      ],
      "metadata": {
        "id": "ekHM_Gil4KVX"
      },
      "execution_count": null,
      "outputs": []
    },
    {
      "cell_type": "code",
      "source": [
        "# Add marker_cluster to current site_map\n",
        "site_map.add_child(marker_cluster)\n",
        "\n",
        "# for each row in spacex_df data frame\n",
        "# create a Marker object with its coordinate\n",
        "# and customize the Marker's icon property to indicate if this launch was successed or failed, \n",
        "# e.g., icon=folium.Icon(color='white', icon_color=row['marker_color']\n",
        "for lat, lng, label, color in zip(spacex_df['Lat'], spacex_df['Long'], spacex_df['Launch Site'], spacex_df['marker_color']):\n",
        "    # TODO: Create and add a Marker cluster to the site map\n",
        "    # marker = folium.Marker(...)\n",
        "    coordinate = [lat, lng]\n",
        "    marker = folium.Marker(\n",
        "        coordinate, \n",
        "        icon=folium.Icon(color='white', icon_color=color),\n",
        "        popup=label\n",
        "    )\n",
        "    marker_cluster.add_child(marker)\n",
        "\n",
        "site_map"
      ],
      "metadata": {
        "id": "95BZysb84M3M"
      },
      "execution_count": null,
      "outputs": []
    },
    {
      "cell_type": "markdown",
      "source": [
        "#TASK 3: Calculate the distances between a launch site to its proximities\n",
        "Next, we need to explore and analyze the proximities of launch sites.\n",
        "\n",
        "Let's first add a MousePosition on the map to get coordinate for a mouse over a point on the map. As such, while you are exploring the map, you can easily find the coordinates of any points of interests (such as railway)\n"
      ],
      "metadata": {
        "id": "tloNH_8Q4SfR"
      }
    },
    {
      "cell_type": "code",
      "source": [
        "# Add Mouse Position to get the coordinate (Lat, Long) for a mouse over on the map\n",
        "formatter = \"function(num) {return L.Util.formatNum(num, 5);};\"\n",
        "mouse_position = MousePosition(\n",
        "    position='topright',\n",
        "    separator=' Long: ',\n",
        "    empty_string='NaN',\n",
        "    lng_first=False,\n",
        "    num_digits=20,\n",
        "    prefix='Lat:',\n",
        "    lat_formatter=formatter,\n",
        "    lng_formatter=formatter,\n",
        ")\n",
        "\n",
        "site_map.add_child(mouse_position)\n",
        "site_map"
      ],
      "metadata": {
        "id": "SqTd3Bbc4P1y"
      },
      "execution_count": null,
      "outputs": []
    },
    {
      "cell_type": "markdown",
      "source": [
        "Now zoom in to a launch site and explore its proximity to see if you can easily find any railway, highway, coastline, etc. Move your mouse to these points and mark down their coordinates (shown on the top-left) in order to the distance to the launch site.\n",
        "\n",
        "You can calculate the distance between two points on the map based on their Lat and Long values using the following method:"
      ],
      "metadata": {
        "id": "ljeJ8y1g4UMN"
      }
    },
    {
      "cell_type": "code",
      "source": [
        "from math import sin, cos, sqrt, atan2, radians\n",
        "\n",
        "def calculate_distance(lat1, lon1, lat2, lon2):\n",
        "    # approximate radius of earth in km\n",
        "    R = 6373.0\n",
        "\n",
        "    lat1 = radians(lat1)\n",
        "    lon1 = radians(lon1)\n",
        "    lat2 = radians(lat2)\n",
        "    lon2 = radians(lon2)\n",
        "\n",
        "    dlon = lon2 - lon1\n",
        "    dlat = lat2 - lat1\n",
        "\n",
        "    a = sin(dlat / 2)**2 + cos(lat1) * cos(lat2) * sin(dlon / 2)**2\n",
        "    c = 2 * atan2(sqrt(a), sqrt(1 - a))\n",
        "\n",
        "    distance = R * c\n",
        "    return distance"
      ],
      "metadata": {
        "id": "CC2Bye8B4XUo"
      },
      "execution_count": null,
      "outputs": []
    },
    {
      "cell_type": "code",
      "source": [
        "# find coordinate of the closet coastline\n",
        "coastline_lat = 28.56398\n",
        "coastline_lon = -80.56809\n",
        "launch_site_lat = 28.56321\n",
        "launch_site_lon = -80.57683\n",
        "distance_coastline = calculate_distance(launch_site_lat, launch_site_lon, coastline_lat, coastline_lon)"
      ],
      "metadata": {
        "id": "v1luEXDp4bp-"
      },
      "execution_count": null,
      "outputs": []
    },
    {
      "cell_type": "code",
      "source": [
        "# Create and add a folium.Marker on your selected closest coastline point on the map\n",
        "# Display the distance between coastline point and launch site using the icon property \n",
        "coast_coordinates = [coastline_lat, coastline_lon]\n",
        "distance_marker = folium.Marker(\n",
        "    coast_coordinates,\n",
        "    icon=DivIcon(\n",
        "        icon_size=(20,20),\n",
        "        icon_anchor=(0,0),\n",
        "        html='<div style=\"font-size: 12; color:#d35400;\"><b>%s</b></div>' % \"{:10.2f} KM\".format(distance_coastline),\n",
        "        )\n",
        "    )\n",
        "distance_marker.add_to(site_map)\n",
        "site_map"
      ],
      "metadata": {
        "id": "VfkdeGkB4eme"
      },
      "execution_count": null,
      "outputs": []
    },
    {
      "cell_type": "code",
      "source": [
        "# Create a `folium.PolyLine` object using the coastline coordinates and launch site coordinate\n",
        "launch_site_coordinates = [launch_site_lat, launch_site_lon]\n",
        "lines=folium.PolyLine(locations=[coast_coordinates, launch_site_coordinates], weight=1)\n",
        "site_map.add_child(lines)"
      ],
      "metadata": {
        "id": "HAIm1JU24hjh"
      },
      "execution_count": null,
      "outputs": []
    },
    {
      "cell_type": "code",
      "source": [
        "# Create a marker with distance to a closest city, railway, highway, etc.\n",
        "# Draw a line between the closest city(Titusville) to the launch site\n",
        "city_lat = 28.61208\n",
        "city_lon = -80.80764\n",
        "distance_city = calculate_distance(launch_site_lat, launch_site_lon, city_lat, city_lon)\n",
        "\n",
        "city_coordinates = [city_lat, city_lon]\n",
        "distance_marker = folium.Marker(\n",
        "    city_coordinates,\n",
        "    icon=DivIcon(\n",
        "        icon_size=(20,20),\n",
        "        icon_anchor=(0,0),\n",
        "        html='<div style=\"font-size: 12; color:#d35400;\"><b>%s</b></div>' % \"{:10.2f} KM\".format(distance_city),\n",
        "        )\n",
        "    )\n",
        "distance_marker.add_to(site_map)\n",
        "\n",
        "launch_site_coordinates = [launch_site_lat, launch_site_lon]\n",
        "lines=folium.PolyLine(locations=[city_coordinates, launch_site_coordinates], weight=1)\n",
        "site_map.add_child(lines)\n",
        "site_map"
      ],
      "metadata": {
        "id": "x70O-uV94kRk"
      },
      "execution_count": null,
      "outputs": []
    },
    {
      "cell_type": "code",
      "source": [
        "# Draw a line between the closest railway to the launch site\n",
        "railway_lat = 28.57208\n",
        "railway_lon = -80.58527\n",
        "distance_railway = calculate_distance(launch_site_lat, launch_site_lon, railway_lat, railway_lon)\n",
        "\n",
        "railway_coordinates = [railway_lat, railway_lon]\n",
        "distance_marker = folium.Marker(\n",
        "    railway_coordinates,\n",
        "    icon=DivIcon(\n",
        "        icon_size=(20,20),\n",
        "        icon_anchor=(0,0),\n",
        "        html='<div style=\"font-size: 12; color:#d35400;\"><b>%s</b></div>' % \"{:10.2f} KM\".format(distance_railway),\n",
        "        )\n",
        "    )\n",
        "distance_marker.add_to(site_map)\n",
        "\n",
        "launch_site_coordinates = [launch_site_lat, launch_site_lon]\n",
        "lines=folium.PolyLine(locations=[railway_coordinates, launch_site_coordinates], weight=1)\n",
        "site_map.add_child(lines)\n",
        "site_map"
      ],
      "metadata": {
        "id": "DRhhxIu74njB"
      },
      "execution_count": null,
      "outputs": []
    },
    {
      "cell_type": "code",
      "source": [
        "# Draw a line between the closest highway to the launch site\n",
        "highway_lat = 28.56478\n",
        "highway_lon = -80.57103\n",
        "distance_highway = calculate_distance(launch_site_lat, launch_site_lon, highway_lat, highway_lon)\n",
        "\n",
        "highway_coordinates = [highway_lat, highway_lon]\n",
        "distance_marker = folium.Marker(\n",
        "    highway_coordinates,\n",
        "    icon=DivIcon(\n",
        "        icon_size=(20,20),\n",
        "        icon_anchor=(0,0),\n",
        "        html='<div style=\"font-size: 12; color:#d35400;\"><b>%s</b></div>' % \"{:10.2f} KM\".format(distance_highway),\n",
        "        )\n",
        "    )\n",
        "distance_marker.add_to(site_map)\n",
        "\n",
        "launch_site_coordinates = [launch_site_lat, launch_site_lon]\n",
        "lines=folium.PolyLine(locations=[highway_coordinates, launch_site_coordinates], weight=1)\n",
        "site_map.add_child(lines)\n",
        "site_map"
      ],
      "metadata": {
        "id": "n2c9FqIg4qgm"
      },
      "execution_count": null,
      "outputs": []
    },
    {
      "cell_type": "code",
      "source": [
        "# Draw a line between the closest city(Cape Canaveral) to the launch site\n",
        "city_2_lat = 28.40159\n",
        "city_2_lon = -80.6042\n",
        "distance_city_2 = calculate_distance(launch_site_lat, launch_site_lon, city_2_lat, city_2_lon)\n",
        "\n",
        "city_2_coordinates = [city_2_lat, city_2_lon]\n",
        "distance_marker = folium.Marker(\n",
        "    city_2_coordinates,\n",
        "    icon=DivIcon(\n",
        "        icon_size=(20,20),\n",
        "        icon_anchor=(0,0),\n",
        "        html='<div style=\"font-size: 12; color:#d35400;\"><b>%s</b></div>' % \"{:10.2f} KM\".format(distance_city_2),\n",
        "        )\n",
        "    )\n",
        "distance_marker.add_to(site_map)\n",
        "\n",
        "launch_site_coordinates = [launch_site_lat, launch_site_lon]\n",
        "lines=folium.PolyLine(locations=[city_2_coordinates, launch_site_coordinates], weight=1)\n",
        "site_map.add_child(lines)\n",
        "site_map"
      ],
      "metadata": {
        "id": "jyQr9tTU4tZM"
      },
      "execution_count": null,
      "outputs": []
    },
    {
      "cell_type": "code",
      "source": [
        "# Draw a line between the closest city(Lompoc) to the launch site(Space Launch Complex 4)\n",
        "launch_site_4_lat = 34.63286\n",
        "launch_site_4_lon = -120.61074\n",
        "launch_site_4_coordinates = [launch_site_4_lat, launch_site_4_lon]\n",
        "\n",
        "city_Lompoc_lat = 34.63879\n",
        "city_Lompoc_lon = -120.45788\n",
        "distance_city_Lompoc = calculate_distance(launch_site_4_lat, launch_site_4_lon, city_Lompoc_lat, city_Lompoc_lon)\n",
        "\n",
        "city_Lompoc_coordinates = [city_Lompoc_lat, city_Lompoc_lon]\n",
        "\n",
        "distance_marker = folium.Marker(\n",
        "    city_Lompoc_coordinates,\n",
        "    icon=DivIcon(\n",
        "        icon_size=(20,20),\n",
        "        icon_anchor=(0,0),\n",
        "        html='<div style=\"font-size: 12; color:#d35400;\"><b>%s</b></div>' % \"{:10.2f} KM\".format(distance_city_Lompoc),\n",
        "        )\n",
        "    )\n",
        "distance_marker.add_to(site_map)\n",
        "\n",
        "lines=folium.PolyLine(locations=[city_Lompoc_coordinates, launch_site_4_coordinates], weight=1)\n",
        "site_map.add_child(lines)\n",
        "\n",
        "# Draw a line between the closest coast to the launch site(Space Launch Complex 4)\n",
        "west_coast_lat = 34.63698\n",
        "west_coast_lon = -120.6245\n",
        "distance_west_coast = calculate_distance(launch_site_4_lat, launch_site_4_lon, west_coast_lat, west_coast_lon)\n",
        "\n",
        "west_coast_coordinates = [west_coast_lat, west_coast_lon]\n",
        "\n",
        "distance_marker = folium.Marker(\n",
        "    west_coast_coordinates,\n",
        "    icon=DivIcon(\n",
        "        icon_size=(20,20),\n",
        "        icon_anchor=(0,0),\n",
        "        html='<div style=\"font-size: 12; color:#d35400;\"><b>%s</b></div>' % \"{:10.2f} KM\".format(distance_west_coast),\n",
        "        )\n",
        "    )\n",
        "distance_marker.add_to(site_map)\n",
        "\n",
        "lines=folium.PolyLine(locations=[west_coast_coordinates, launch_site_4_coordinates], weight=1)\n",
        "site_map.add_child(lines)\n",
        "\n",
        "# Draw a line between the closest railway to the launch site(Space Launch Complex 4)\n",
        "railway_4_lat = 34.63677\n",
        "railway_4_lon = -120.6236\n",
        "distance_railway_4 = calculate_distance(launch_site_4_lat, launch_site_4_lon, railway_4_lat, railway_4_lon)\n",
        "\n",
        "railway_4_coordinates = [railway_4_lat, railway_4_lon]\n",
        "\n",
        "distance_marker = folium.Marker(\n",
        "    railway_4_coordinates,\n",
        "    icon=DivIcon(\n",
        "        icon_size=(20,20),\n",
        "        icon_anchor=(0,0),\n",
        "        html='<div style=\"font-size: 12; color:#d35400;\"><b>%s</b></div>' % \"{:10.2f} KM\".format(distance_railway_4),\n",
        "        )\n",
        "    )\n",
        "distance_marker.add_to(site_map)\n",
        "\n",
        "lines=folium.PolyLine(locations=[railway_4_coordinates, launch_site_4_coordinates], weight=1)\n",
        "site_map.add_child(lines)\n",
        "\n",
        "site_map"
      ],
      "metadata": {
        "id": "RoAwPKo34y5i"
      },
      "execution_count": null,
      "outputs": []
    },
    {
      "cell_type": "markdown",
      "source": [
        "After you plot distance lines to the proximities, you can answer the following questions easily:\n",
        "\n",
        "Are launch sites in close proximity to railways?\n",
        "Are launch sites in close proximity to highways?\n",
        "Are launch sites in close proximity to coastline?\n",
        "Do launch sites keep certain distance away from cities?\n",
        "Also please try to explain your findings.\n",
        "\n",
        "Next Steps:\n",
        "Now you have discovered many interesting insights related to the launch sites' location using folium, in a very interactive way. Next, you will need to build a dashboard using Ploty Dash on detailed launch records.\n",
        "\n"
      ],
      "metadata": {
        "id": "PIU4V1g_46ka"
      }
    },
    {
      "cell_type": "code",
      "source": [
        ""
      ],
      "metadata": {
        "id": "pNTyZXZ14nlV"
      },
      "execution_count": null,
      "outputs": []
    },
    {
      "cell_type": "code",
      "source": [
        ""
      ],
      "metadata": {
        "id": "ozhUaezU4noO"
      },
      "execution_count": null,
      "outputs": []
    }
  ]
}